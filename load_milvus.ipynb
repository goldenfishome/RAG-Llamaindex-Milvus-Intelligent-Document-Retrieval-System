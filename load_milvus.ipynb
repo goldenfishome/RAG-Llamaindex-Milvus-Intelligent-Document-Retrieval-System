{
 "cells": [
  {
   "cell_type": "code",
   "execution_count": 1,
   "metadata": {},
   "outputs": [],
   "source": [
    "import json"
   ]
  },
  {
   "cell_type": "code",
   "execution_count": 23,
   "metadata": {},
   "outputs": [],
   "source": [
    "from pymilvus import MilvusClient\n",
    "\n",
    "client = MilvusClient(uri=\"http://localhost:19530\", token=\"root:Milvus\")\n",
    "\n"
   ]
  },
  {
   "cell_type": "code",
   "execution_count": 25,
   "metadata": {},
   "outputs": [],
   "source": [
    "collection_name='my_rag_collection'"
   ]
  },
  {
   "cell_type": "code",
   "execution_count": 27,
   "metadata": {},
   "outputs": [],
   "source": [
    "from openai import OpenAI\n",
    "\n",
    "openai_client = OpenAI()"
   ]
  },
  {
   "cell_type": "code",
   "execution_count": 28,
   "metadata": {},
   "outputs": [],
   "source": [
    "def emb_text(text):\n",
    "    return (\n",
    "        openai_client.embeddings.create(input=text, model=\"text-embedding-3-small\")\n",
    "        .data[0]\n",
    "        .embedding\n",
    "    )"
   ]
  },
  {
   "cell_type": "code",
   "execution_count": 29,
   "metadata": {},
   "outputs": [],
   "source": [
    "question = \"Explain Earth-Moon system based on the dark matter\"\n"
   ]
  },
  {
   "cell_type": "code",
   "execution_count": 30,
   "metadata": {},
   "outputs": [],
   "source": [
    "search_res = client.search(\n",
    "    collection_name=collection_name,\n",
    "    data=[\n",
    "        emb_text(question)\n",
    "    ],  # Use the `emb_text` function to convert the question to an embedding vector\n",
    "    limit=3,  # Return top 3 results\n",
    "    search_params={\"metric_type\": \"IP\", \"params\": {}},  # Inner product distance\n",
    "    output_fields=[\"text\"],  # Return the text field\n",
    ")"
   ]
  },
  {
   "cell_type": "code",
   "execution_count": 19,
   "metadata": {},
   "outputs": [
    {
     "name": "stdout",
     "output_type": "stream",
     "text": [
      "[\n",
      "    [\n",
      "        \"The evolution of the Earth-Moon system based on the dark matter field\\n  fluid model.   The evolution of Earth-Moon system is described by the dark matter field\\nfluid model proposed in the Meeting of Division of Particle and Field 2004,\\nAmerican Physical Society. The current behavior of the Earth-Moon system agrees\\nwith this model very well and the general pattern of the evolution of the\\nMoon-Earth system described by this model agrees with geological and fossil\\nevidence. The closest distance of the Moon to Earth was about 259000 km at 4.5\\nbillion years ago, which is far beyond the Roche's limit. The result suggests\\nthat the tidal friction may not be the primary cause for the evolution of the\\nEarth-Moon system. The average dark matter field fluid constant derived from\\nEarth-Moon system data is 4.39 x 10^(-22) s^(-1)m^(-1). This model predicts\\nthat the Mars's rotation is also slowing with the angular acceleration rate\\nabout -4.38 x 10^(-22) rad s^(-2).\\n\",\n",
      "        0.6731746196746826\n",
      "    ],\n",
      "    [\n",
      "        \"Vertical dynamics of disk galaxies in MOND.   We investigate the possibility of discriminating between Modified Newtonian\\nDynamics (MOND) and Newtonian gravity with dark matter, by studying the\\nvertical dynamics of disk galaxies. We consider models with the same circular\\nvelocity in the equatorial plane (purely baryonic disks in MOND and the same\\ndisks in Newtonian gravity embedded in spherical dark matter haloes), and we\\nconstruct their intrinsic and projected kinematical fields by solving the Jeans\\nequations under the assumption of a two-integral distribution function. We\\nfound that the vertical velocity dispersion of deep-MOND disks can be much\\nlarger than in the equivalent spherical Newtonian models. However, in the more\\nrealistic case of high-surface density disks this effect is significantly\\nreduced, casting doubts on the possibility of discriminating between MOND and\\nNewtonian gravity with dark matter by using current observations.\\n\",\n",
      "        0.47678282856941223\n",
      "    ],\n",
      "    [\n",
      "        \"Solar System Constraints on Gauss-Bonnet Mediated Dark Energy.   Although the Gauss-Bonnet term is a topological invariant for general\\nrelativity, it couples naturally to a quintessence scalar field, modifying\\ngravity at solar system scales. We determine the solar system constraints due\\nto this term by evaluating the post-Newtonian metric for a distributional\\nsource. We find a mass dependent, 1/r^7 correction to the Newtonian potential,\\nand also deviations from the Einstein gravity prediction for light-bending. We\\nconstrain the parameters of the theory using planetary orbits, the Cassini\\nspacecraft data, and a laboratory test of Newton's law, always finding\\nextremely tight bounds on the energy associated to the Gauss-Bonnet term. We\\ndiscuss the relevance of these constraints to late-time cosmological\\nacceleration.\\n\",\n",
      "        0.47468364238739014\n",
      "    ]\n",
      "]\n"
     ]
    }
   ],
   "source": [
    "retrieved_lines_with_distances = [\n",
    "    (res[\"entity\"][\"text\"], res[\"distance\"]) for res in search_res[0]\n",
    "]\n",
    "print(json.dumps(retrieved_lines_with_distances, indent=4))\n"
   ]
  },
  {
   "cell_type": "code",
   "execution_count": 20,
   "metadata": {},
   "outputs": [],
   "source": [
    "context = \"\\n\".join(\n",
    "    [line_with_distance[0] for line_with_distance in retrieved_lines_with_distances]\n",
    ")\n"
   ]
  },
  {
   "cell_type": "code",
   "execution_count": 21,
   "metadata": {},
   "outputs": [],
   "source": [
    "SYSTEM_PROMPT = \"\"\"\n",
    "Human: You are an AI assistant. You are able to find answers to the questions from the contextual passage snippets provided.\n",
    "\"\"\"\n",
    "USER_PROMPT = f\"\"\"\n",
    "Use the following pieces of information enclosed in <context> tags to provide an answer to the question enclosed in <question> tags.\n",
    "<context>\n",
    "{context}\n",
    "</context>\n",
    "<question>\n",
    "{question}\n",
    "</question>\n",
    "\"\"\"\n"
   ]
  },
  {
   "cell_type": "code",
   "execution_count": 22,
   "metadata": {},
   "outputs": [
    {
     "name": "stdout",
     "output_type": "stream",
     "text": [
      "The Earth-Moon system evolution is described by the dark matter field fluid model proposed at the Meeting of Division of Particle and Field 2004, American Physical Society. This model indicates that the closest distance of the Moon to Earth was about 259,000 km 4.5 billion years ago, suggesting that tidal friction may not be the primary cause for the system's evolution. The dark matter field fluid constant derived from Earth-Moon data is 4.39 x 10^(-22) s^(-1)m^(-1). The model also predicts that Mars's rotation is slowing down with an angular acceleration rate of about -4.38 x 10^(-22) rad s^(-2).\n"
     ]
    }
   ],
   "source": [
    "response = openai_client.chat.completions.create(\n",
    "    model=\"gpt-3.5-turbo\",\n",
    "    messages=[\n",
    "        {\"role\": \"system\", \"content\": SYSTEM_PROMPT},\n",
    "        {\"role\": \"user\", \"content\": USER_PROMPT},\n",
    "    ],\n",
    ")\n",
    "print(response.choices[0].message.content)\n"
   ]
  },
  {
   "cell_type": "code",
   "execution_count": null,
   "metadata": {},
   "outputs": [],
   "source": []
  }
 ],
 "metadata": {
  "kernelspec": {
   "display_name": "openai-env",
   "language": "python",
   "name": "python3"
  },
  "language_info": {
   "codemirror_mode": {
    "name": "ipython",
    "version": 3
   },
   "file_extension": ".py",
   "mimetype": "text/x-python",
   "name": "python",
   "nbconvert_exporter": "python",
   "pygments_lexer": "ipython3",
   "version": "3.11.5"
  }
 },
 "nbformat": 4,
 "nbformat_minor": 2
}
